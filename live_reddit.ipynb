{
  "nbformat": 4,
  "nbformat_minor": 0,
  "metadata": {
    "colab": {
      "provenance": []
    },
    "kernelspec": {
      "name": "python3",
      "display_name": "Python 3"
    },
    "language_info": {
      "name": "python"
    }
  },
  "cells": [
    {
      "cell_type": "code",
      "execution_count": null,
      "metadata": {
        "colab": {
          "base_uri": "https://localhost:8080/"
        },
        "id": "2J2SN-3qoJwj",
        "outputId": "b34f81a2-bd00-4e6f-d31c-ded86f908b2b"
      },
      "outputs": [
        {
          "output_type": "stream",
          "name": "stdout",
          "text": [
            "Collecting praw\n",
            "  Downloading praw-7.8.1-py3-none-any.whl.metadata (9.4 kB)\n",
            "Collecting prawcore<3,>=2.4 (from praw)\n",
            "  Downloading prawcore-2.4.0-py3-none-any.whl.metadata (5.0 kB)\n",
            "Collecting update_checker>=0.18 (from praw)\n",
            "  Downloading update_checker-0.18.0-py3-none-any.whl.metadata (2.3 kB)\n",
            "Requirement already satisfied: websocket-client>=0.54.0 in /usr/local/lib/python3.10/dist-packages (from praw) (1.8.0)\n",
            "Requirement already satisfied: requests<3.0,>=2.6.0 in /usr/local/lib/python3.10/dist-packages (from prawcore<3,>=2.4->praw) (2.32.3)\n",
            "Requirement already satisfied: charset-normalizer<4,>=2 in /usr/local/lib/python3.10/dist-packages (from requests<3.0,>=2.6.0->prawcore<3,>=2.4->praw) (3.4.0)\n",
            "Requirement already satisfied: idna<4,>=2.5 in /usr/local/lib/python3.10/dist-packages (from requests<3.0,>=2.6.0->prawcore<3,>=2.4->praw) (3.10)\n",
            "Requirement already satisfied: urllib3<3,>=1.21.1 in /usr/local/lib/python3.10/dist-packages (from requests<3.0,>=2.6.0->prawcore<3,>=2.4->praw) (2.2.3)\n",
            "Requirement already satisfied: certifi>=2017.4.17 in /usr/local/lib/python3.10/dist-packages (from requests<3.0,>=2.6.0->prawcore<3,>=2.4->praw) (2024.8.30)\n",
            "Downloading praw-7.8.1-py3-none-any.whl (189 kB)\n",
            "\u001b[2K   \u001b[90m━━━━━━━━━━━━━━━━━━━━━━━━━━━━━━━━━━━━━━━━\u001b[0m \u001b[32m189.3/189.3 kB\u001b[0m \u001b[31m3.0 MB/s\u001b[0m eta \u001b[36m0:00:00\u001b[0m\n",
            "\u001b[?25hDownloading prawcore-2.4.0-py3-none-any.whl (17 kB)\n",
            "Downloading update_checker-0.18.0-py3-none-any.whl (7.0 kB)\n",
            "Installing collected packages: update_checker, prawcore, praw\n",
            "Successfully installed praw-7.8.1 prawcore-2.4.0 update_checker-0.18.0\n"
          ]
        }
      ],
      "source": [
        "!pip install praw"
      ]
    },
    {
      "cell_type": "markdown",
      "source": [
        "REAL TIME REDDIT PULL"
      ],
      "metadata": {
        "id": "pC6YQlHgujbo"
      }
    },
    {
      "cell_type": "code",
      "source": [
        "import praw\n",
        "from datetime import datetime\n",
        "import pytz\n",
        "# Set up the Reddit instance with your credentials\n",
        "reddit = praw.Reddit(\n",
        "    client_id='mNEnO4swPUjezEf92dxgxg',\n",
        "    client_secret='sfFdYwuZWqofiqro51zGlKcJiC2YiQ',\n",
        "    user_agent='LLM class project'  # This can be any descriptive name like 'my_research_script'\n",
        ")\n",
        "\n",
        "# Choose the subreddit and number of posts to retrieve\n",
        "subreddit = reddit.subreddit(\"wallstreetbets\")\n",
        "\n",
        "# Collect the latest posts (you can adjust the limit)\n",
        "for post in subreddit.new(limit=10):  # You can use .hot or .top instead of .new if you prefer\n",
        "    print(\"Title:\", post.title)\n",
        "    print(\"Text:\", post.selftext)\n",
        "    print(\"Score:\", post.score)\n",
        "    print(\"Upvotes:\", post.ups)\n",
        "    print(\"Downvotes:\", post.downs)\n",
        "    date_time = datetime.fromtimestamp(post.created_utc, pytz.UTC)\n",
        "    eastern_time = date_time.astimezone(pytz.timezone(\"America/New_York\"))\n",
        "    print(\"Eastern Time:\", eastern_time.strftime(\"%Y-%m-%d %H:%M:%S\"))\n",
        "    print(\"Comments count:\", post.num_comments)\n",
        "    print(\"-\" * 50)\n"
      ],
      "metadata": {
        "colab": {
          "base_uri": "https://localhost:8080/"
        },
        "id": "8ZjJK9MErUxb",
        "outputId": "38e51d7c-fe0f-4de0-c710-21c45783df40"
      },
      "execution_count": null,
      "outputs": [
        {
          "output_type": "stream",
          "name": "stderr",
          "text": [
            "WARNING:praw:It appears that you are using PRAW in an asynchronous environment.\n",
            "It is strongly recommended to use Async PRAW: https://asyncpraw.readthedocs.io.\n",
            "See https://praw.readthedocs.io/en/latest/getting_started/multiple_instances.html#discord-bots-and-asynchronous-environments for more info.\n",
            "\n"
          ]
        },
        {
          "output_type": "stream",
          "name": "stdout",
          "text": [
            "Title: Realistically, is there an end to your greed?\n",
            "Text: Every week I gamble on options, and even when I make profits, I never cash out, I’m always looking to double it or triple it. \n",
            "\n",
            "Do any of you have a real figure on when you’re going to cash out? 25k, 500k, 5M? When will it end? \n",
            "Score: 1\n",
            "Upvotes: 1\n",
            "Downvotes: 0\n",
            "Eastern Time: 2024-11-05 14:06:44\n",
            "Comments count: 1\n",
            "--------------------------------------------------\n",
            "Title: PLTR post-election \n",
            "Text: Anyone else remember when $PLTR went from $10 to $40 from election day to inauguration last cycle despite belief by most Republican victory favored USG contracts. Now imagine if we actually have a Republican victory…\n",
            "Score: 1\n",
            "Upvotes: 1\n",
            "Downvotes: 0\n",
            "Eastern Time: 2024-11-05 14:03:15\n",
            "Comments count: 1\n",
            "--------------------------------------------------\n",
            "Title: I watched it skyrocket and did nothing\n",
            "Text: 20,000% gain and I’m not happy. \n",
            "\n",
            "Every day I looked at it and thought it was the peaked. I think after the 1000th day I’ve thought that I should have changed my strategy. Alas, I’m dumb. \n",
            "Score: 1\n",
            "Upvotes: 1\n",
            "Downvotes: 0\n",
            "Eastern Time: 2024-11-05 14:00:05\n",
            "Comments count: 2\n",
            "--------------------------------------------------\n",
            "Title: News Outlets\n",
            "Text: What outlets can I use to get news for stocks BEFORE they gap up? Everyday I see stocks that gapped up 20% over night and I'd love to get the inside scoop on this stuff so I'm not left scrounging for scraps in the morning. Last week was great, I made 15% day trading, then this week I totally shit the bed and lost 6% already. I'm looking for a safer method of trading to get me 2.5% a week profit.\n",
            "Score: 4\n",
            "Upvotes: 4\n",
            "Downvotes: 0\n",
            "Eastern Time: 2024-11-05 13:57:02\n",
            "Comments count: 3\n",
            "--------------------------------------------------\n",
            "Title: My next $DG play for those interested. $CVS is trash and is going below $50 tomorrow on ER. I have 200 of the 45p for 11/8\n",
            "Text: Seriously, who the fuck even goes to CVS for anything anymore? Garbage company. $WMT does everything $CVS does for cheaper (seems to be a theme, doesn't it?)\n",
            "\n",
            "This turd has been flirting with the $52 level since they bombed earnings in May.\n",
            "\n",
            "Last time CVS was at $52 level was 2013, 2019, and 2020. If this goes below $52, it will be a straight shot to $44 by Friday.\n",
            "\n",
            "This is a pig and will be below $45 by Friday.\n",
            "\n",
            "https://preview.redd.it/p5lleyxyn4zd1.png?width=2978&format=png&auto=webp&s=78687bdb05e25ce194e1333db0f3bd2829adef8a\n",
            "\n",
            "\n",
            "Score: 8\n",
            "Upvotes: 8\n",
            "Downvotes: 0\n",
            "Eastern Time: 2024-11-05 13:37:43\n",
            "Comments count: 6\n",
            "--------------------------------------------------\n",
            "Title: Are u bullish or bearish on SMCI after hours? \n",
            "Text: The volume of calls is increasing. Until yesterday the volume of puts exceeded calls. Today that has been reversed, I don't know what to think... Until yesterday everyone was super bearish, but today I see more people bullish, at least for a rebound and then for it to continue falling. Also today there is no SMCI auditor, so technically they can say anything in their results release and go up, taking into account that the expected movement is +-27%. What do you think?\n",
            "Score: 11\n",
            "Upvotes: 11\n",
            "Downvotes: 0\n",
            "Eastern Time: 2024-11-05 13:31:44\n",
            "Comments count: 21\n",
            "--------------------------------------------------\n",
            "Title: Gain Porn ~10k\n",
            "Text: Made a trade for the post earnings dip on $BSX (Boston Scientific) \n",
            "\n",
            "About ~115% \n",
            "turned around 8k to 18 k \n",
            "11/5C $77 Strike\n",
            "\n",
            "lfg\n",
            "Score: 16\n",
            "Upvotes: 16\n",
            "Downvotes: 0\n",
            "Eastern Time: 2024-11-05 13:12:31\n",
            "Comments count: 5\n",
            "--------------------------------------------------\n",
            "Title: I may have fucked up and about to lose everything to IV but let’s just hope 🤷🏻‍♂️ $SMCI\n",
            "Text: So I’ve got about 2k worth of outs and 1 k worth of calls. Idk if this is a good idea but what do y’all think? I can’t sell off any positions but can buy more calls or outs based on recommendations before the close. Any help would be appreciated \n",
            "Score: 10\n",
            "Upvotes: 10\n",
            "Downvotes: 0\n",
            "Eastern Time: 2024-11-05 13:06:42\n",
            "Comments count: 17\n",
            "--------------------------------------------------\n",
            "Title: China TV Set Spying: Chinese Company Hisense Wants to Become No.1 in the U.S. within 2 yrs\n",
            "Text: https://www.cnbc.com/2024/11/05/chinas-hisense-aims-to-become-the-no-1-tv-company-in-the-us-within-2-years.html\n",
            "\n",
            "Chinese home appliance company Hisense aims to become the No. 1 seller of television sets in the U.S. in about two years, Catherine Fang, president of Hisense International, told CNBC in an exclusive interview Monday.\n",
            "\n",
            "Hisense ranked second by North America market share for TV set shipments, behind Samsung, according to Counterpoint data for the second quarter.\n",
            "Score: 1\n",
            "Upvotes: 1\n",
            "Downvotes: 0\n",
            "Eastern Time: 2024-11-05 13:01:51\n",
            "Comments count: 4\n",
            "--------------------------------------------------\n",
            "Title: Lucid Motors Earnings = MASSIVE Tendies\n",
            "Text: Listen closely regard, you're in the red, your wife is about to divorce you and go with 14in BBC Jamal, even if she gets back with you that smelly fish basket will never be tight again, you can't afford to mess this up. Heed my call. \n",
            "Position: 311 nov 15 $2.50 calls\n",
            "\n",
            "Lucid Motors has earnings Nov 7th and on the same day it's highly anticipated Gravity SUV comes out for pre orders with earnings also coming after the bell. My aim with that is they will probably give us good feedback about how the orders are coming in on the call. I'm guessing pre orders will be a $100 fully refundable situation. I remember when Tesla did the same thing and the pre order numbers were insane and the stock blew up. The bar is set super low here. Lucid only makes like 9k cars a year. The expectations by the street are also super low and below company forecast expectations. Seeing as last month they had a large funding round at around $2.70 a share and now it's even trading at $2.20 (that means smart people bought it 20% higher than you will). The street is looking for literally anything from this company the bar has been set so low. It's over sold on the indicators and is very close to book value (meaning if you sold all of it's assets after paying off it's debt you would get a decent amount of money back in respects to the stock price). The street is looking for literally anything here to point to even a potential for profitability to bounce it back in the $4 range (that's 100% on your money currently) and yeah if the ev spark ignites again this could be a 10x stock easily. What's the downside? Limited AF, oversold, close to book value. They are also 62% owned by Saudia Arabia so again even a hint about a take over would send the stock skyrocketing as Saudia would have to pay a premium to own the shares. Only 40% float with 25% of that shorted. I've been seeing it on the chart and it usually goes up 1.5x the amount that Rivian does. I am literally throwing you the softest ball of your life to wack it with your regard bat. Don't mess this up.\n",
            "\n",
            "I like shares more than calls here but I'm feeling a little greedy.\n",
            "Score: 76\n",
            "Upvotes: 76\n",
            "Downvotes: 0\n",
            "Eastern Time: 2024-11-05 12:48:15\n",
            "Comments count: 113\n",
            "--------------------------------------------------\n"
          ]
        }
      ]
    },
    {
      "cell_type": "code",
      "source": [],
      "metadata": {
        "id": "-269XNZ0tgGR"
      },
      "execution_count": null,
      "outputs": []
    }
  ]
}